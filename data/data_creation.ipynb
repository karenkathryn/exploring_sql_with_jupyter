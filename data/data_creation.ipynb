{
 "cells": [
  {
   "cell_type": "markdown",
   "metadata": {},
   "source": [
    "# Creating a database\n",
    "The goal of this notebook is to create a database (astronomy_data.db) with several tables. The database will be used in later notebooks for practice with querying.\n",
    "\n",
    "### Preliminaries\n",
    "Import any necessary moduels."
   ]
  },
  {
   "cell_type": "code",
   "execution_count": 5,
   "metadata": {},
   "outputs": [],
   "source": [
    "import sqlite3\n",
    "import pandas as pd"
   ]
  },
  {
   "cell_type": "markdown",
   "metadata": {},
   "source": [
    "Open a connection to an SQL database file. (A new db file will be created when we connect.)\n",
    "\n",
    "Connect a cursor to the database."
   ]
  },
  {
   "cell_type": "code",
   "execution_count": 6,
   "metadata": {},
   "outputs": [],
   "source": [
    "conn = sqlite3.connect('astronomy_data.db')\n",
    "cur = conn.cursor()"
   ]
  },
  {
   "cell_type": "markdown",
   "metadata": {},
   "source": [
    "### Create and insert data into the tables\n",
    "Create the `solar_system_20` table."
   ]
  },
  {
   "cell_type": "code",
   "execution_count": 8,
   "metadata": {},
   "outputs": [
    {
     "data": {
      "text/plain": [
       "<sqlite3.Cursor at 0x11f49f030>"
      ]
     },
     "execution_count": 8,
     "metadata": {},
     "output_type": "execute_result"
    }
   ],
   "source": [
    "query = \"\"\"CREATE TABLE IF NOT EXISTS solar_system_20 (\n",
    "    num INT, \n",
    "    ss_name TEXT, \n",
    "    diameter INT, \n",
    "    classification TEXT,\n",
    "    ss_location TEXT\n",
    ");\n",
    "    \"\"\"\n",
    "\n",
    "cur.execute(query)"
   ]
  },
  {
   "cell_type": "code",
   "execution_count": 9,
   "metadata": {},
   "outputs": [
    {
     "data": {
      "text/plain": [
       "<sqlite3.Cursor at 0x11f49f030>"
      ]
     },
     "execution_count": 9,
     "metadata": {},
     "output_type": "execute_result"
    }
   ],
   "source": [
    "query = \"\"\"INSERT INTO solar_system_20(num, ss_name, diameter, classification, ss_location) VALUES\n",
    "    (1, 'Sun', 865000, 'star', 'close to the center of the Solar System'),\n",
    "    (2, 'Jupiter', 88846, 'planet', '5th planet from the Sun'),\n",
    "    (3, 'Saturn', 74900, 'planet', '6th planet from the Sun'),\n",
    "    (4, 'Uranus', 31763, 'planet', '7th planet from the Sun'),\n",
    "    (5, 'Neptune', 30779, 'planet', '8th planet from the Sun'),\n",
    "    (6, 'Earth', 7926, 'planet', '3th planet from the Sun'),\n",
    "    (7, 'Venus', 7521, 'planet', '2nd planet from the Sun'),\n",
    "    (8, 'Mars', 4222, 'planet', '4th planet from the Sun'),\n",
    "    (9, 'Ganymede', 3270, 'moon', 'orbiting Jupiter'),\n",
    "    (10, 'Titan', 3200, 'moon', 'orbiting Saturn'),\n",
    "    (11, 'Mercury', 3031, 'planet', 'closest planet to the Sun'),\n",
    "    (12, 'Callisto', 2996, 'moon', 'orbiting Jupiter'),\n",
    "    (13, 'Io', 2264, 'moon', 'orbiting Jupiter'),\n",
    "    (14, 'The Moon', 2159, 'moon', 'orbiting Earth'),\n",
    "    (15, 'Europa', 1940, 'moon', 'orbiting Jupiter'),\n",
    "    (16, 'Triton', 1680, 'moon', 'orbiting Neptune'),\n",
    "    (17, 'Pluto', 1473, 'dwarf planet', 'beyond Neptune'),\n",
    "    (18, 'Eris', 1445, 'dwarf planet', 'beyond Neptune'),\n",
    "    (19, 'Titana', 982, 'moon', 'orbiting Uranus'),\n",
    "    (20, 'Rhea', 949, 'moon', 'orbiting Saturn');\n",
    "    \"\"\"\n",
    "\n",
    "cur.execute(query)"
   ]
  },
  {
   "cell_type": "markdown",
   "metadata": {},
   "source": [
    "Create the `black_holes` table."
   ]
  },
  {
   "cell_type": "code",
   "execution_count": 10,
   "metadata": {},
   "outputs": [
    {
     "data": {
      "text/plain": [
       "<sqlite3.Cursor at 0x11f49f030>"
      ]
     },
     "execution_count": 10,
     "metadata": {},
     "output_type": "execute_result"
    }
   ],
   "source": [
    "query = \"\"\"CREATE TABLE IF NOT EXISTS black_holes (\n",
    "    num INT, \n",
    "    name TEXT, \n",
    "    base_mass INT, \n",
    "    power INT\n",
    ");\n",
    "    \"\"\"\n",
    "\n",
    "cur.execute(query)"
   ]
  },
  {
   "cell_type": "code",
   "execution_count": 11,
   "metadata": {},
   "outputs": [
    {
     "data": {
      "text/plain": [
       "<sqlite3.Cursor at 0x11f49f030>"
      ]
     },
     "execution_count": 11,
     "metadata": {},
     "output_type": "execute_result"
    }
   ],
   "source": [
    "query = \"\"\"INSERT INTO black_holes(num, name, base_mass, power)\n",
    "VALUES\n",
    "    (1, 'M104 - Sombrero Galaxy', 1, 9),\n",
    "    (2, 'M31 - Andromeda Galaxy', 1, 8),\n",
    "    (3, 'NGC 4889', 1, 10),\n",
    "    (4, 'Cygnus X-1', 15, 0);\n",
    "        \"\"\"\n",
    "\n",
    "cur.execute(query)"
   ]
  },
  {
   "cell_type": "markdown",
   "metadata": {},
   "source": [
    "Create the `circ_const`, `sum_const`, and `fall_const` tables."
   ]
  },
  {
   "cell_type": "code",
   "execution_count": 12,
   "metadata": {},
   "outputs": [
    {
     "data": {
      "text/plain": [
       "<sqlite3.Cursor at 0x11f49f030>"
      ]
     },
     "execution_count": 12,
     "metadata": {},
     "output_type": "execute_result"
    }
   ],
   "source": [
    "query = \"\"\"CREATE TABLE IF NOT EXISTS circ_consts ( \n",
    "    const_name TEXT, \n",
    "    area INT\n",
    ");        \"\"\"\n",
    "\n",
    "cur.execute(query)"
   ]
  },
  {
   "cell_type": "code",
   "execution_count": 13,
   "metadata": {},
   "outputs": [
    {
     "data": {
      "text/plain": [
       "<sqlite3.Cursor at 0x11f49f030>"
      ]
     },
     "execution_count": 13,
     "metadata": {},
     "output_type": "execute_result"
    }
   ],
   "source": [
    "query = \"\"\"CREATE TABLE sum_consts ( \n",
    "    const_name TEXT, \n",
    "    main_stars INT\n",
    ");\n",
    "        \"\"\"\n",
    "\n",
    "cur.execute(query)"
   ]
  },
  {
   "cell_type": "code",
   "execution_count": 14,
   "metadata": {},
   "outputs": [
    {
     "data": {
      "text/plain": [
       "<sqlite3.Cursor at 0x11f49f030>"
      ]
     },
     "execution_count": 14,
     "metadata": {},
     "output_type": "execute_result"
    }
   ],
   "source": [
    "query = \"\"\"CREATE TABLE IF NOT EXISTS fall_consts ( \n",
    "    const_name TEXT, \n",
    "    area INT,\n",
    "    main_stars INT\n",
    ");\n",
    "        \"\"\"\n",
    "\n",
    "cur.execute(query)"
   ]
  },
  {
   "cell_type": "code",
   "execution_count": 15,
   "metadata": {},
   "outputs": [
    {
     "data": {
      "text/plain": [
       "<sqlite3.Cursor at 0x11f49f030>"
      ]
     },
     "execution_count": 15,
     "metadata": {},
     "output_type": "execute_result"
    }
   ],
   "source": [
    "query = \"\"\"INSERT INTO circ_consts(const_name, area)\n",
    "VALUES ('Cassiopeia', 598),\n",
    "    ('Ursa Major', 1280),\n",
    "    ('Ursa Minor', 256),\n",
    "    ('Draco', 1083),\n",
    "    ('Cepheus', 588);\n",
    "        \"\"\"\n",
    "\n",
    "cur.execute(query)"
   ]
  },
  {
   "cell_type": "code",
   "execution_count": 16,
   "metadata": {},
   "outputs": [
    {
     "data": {
      "text/plain": [
       "<sqlite3.Cursor at 0x11f49f030>"
      ]
     },
     "execution_count": 16,
     "metadata": {},
     "output_type": "execute_result"
    }
   ],
   "source": [
    "query = \"\"\" INSERT INTO sum_consts(const_name, main_stars)   \n",
    " VALUES ('Cygnus', 9),\n",
    "    ('Lyra', 5),\n",
    "    ('Ursa Major', 20),\n",
    "    ('Scorpius', 18),\n",
    "    ('Andromeda', 16),\n",
    "    ('Cassiopeia', 5);\n",
    "        \"\"\"\n",
    "\n",
    "cur.execute(query)"
   ]
  },
  {
   "cell_type": "code",
   "execution_count": 17,
   "metadata": {},
   "outputs": [
    {
     "data": {
      "text/plain": [
       "<sqlite3.Cursor at 0x11f49f030>"
      ]
     },
     "execution_count": 17,
     "metadata": {},
     "output_type": "execute_result"
    }
   ],
   "source": [
    "query = \"\"\"INSERT INTO fall_consts(const_name, area, main_stars)   \n",
    " VALUES ('Andromeda', 722, 16),\n",
    "    ('Cassiopeia', 598, 5),\n",
    "    ('Cephius', 588, 7),\n",
    "    ('Cetus', 1231, 14),\n",
    "    ('Ursa Major', 1280, 20),\n",
    "    ('Ursa Minor', 256, 7);\n",
    "\n",
    "        \"\"\"\n",
    "\n",
    "cur.execute(query)"
   ]
  },
  {
   "cell_type": "markdown",
   "metadata": {},
   "source": [
    "### Commit the changes and close the connection\n",
    "Note: if we performed any operation on the database other than sending queries, we need to commit those changes via the `.commit()` method before we close the connection."
   ]
  },
  {
   "cell_type": "code",
   "execution_count": 18,
   "metadata": {},
   "outputs": [],
   "source": [
    "conn.commit()\n",
    "conn.close()"
   ]
  },
  {
   "cell_type": "markdown",
   "metadata": {},
   "source": [
    "### Check the database\n",
    "Check that there is data in the tables through a query."
   ]
  },
  {
   "cell_type": "code",
   "execution_count": 19,
   "metadata": {},
   "outputs": [],
   "source": [
    "conn = sqlite3.connect('astronomy_data.db')\n",
    "cur = conn.cursor()"
   ]
  },
  {
   "cell_type": "code",
   "execution_count": 20,
   "metadata": {},
   "outputs": [
    {
     "data": {
      "text/plain": [
       "[(1, 'Sun', 865000, 'star', 'close to the center of the Solar System'),\n",
       " (2, 'Jupiter', 88846, 'planet', '5th planet from the Sun'),\n",
       " (3, 'Saturn', 74900, 'planet', '6th planet from the Sun'),\n",
       " (4, 'Uranus', 31763, 'planet', '7th planet from the Sun'),\n",
       " (5, 'Neptune', 30779, 'planet', '8th planet from the Sun'),\n",
       " (6, 'Earth', 7926, 'planet', '3th planet from the Sun'),\n",
       " (7, 'Venus', 7521, 'planet', '2nd planet from the Sun'),\n",
       " (8, 'Mars', 4222, 'planet', '4th planet from the Sun'),\n",
       " (9, 'Ganymede', 3270, 'moon', 'orbiting Jupiter'),\n",
       " (10, 'Titan', 3200, 'moon', 'orbiting Saturn'),\n",
       " (11, 'Mercury', 3031, 'planet', 'closest planet to the Sun'),\n",
       " (12, 'Callisto', 2996, 'moon', 'orbiting Jupiter'),\n",
       " (13, 'Io', 2264, 'moon', 'orbiting Jupiter'),\n",
       " (14, 'The Moon', 2159, 'moon', 'orbiting Earth'),\n",
       " (15, 'Europa', 1940, 'moon', 'orbiting Jupiter'),\n",
       " (16, 'Triton', 1680, 'moon', 'orbiting Neptune'),\n",
       " (17, 'Pluto', 1473, 'dwarf planet', 'beyond Neptune'),\n",
       " (18, 'Eris', 1445, 'dwarf planet', 'beyond Neptune'),\n",
       " (19, 'Titana', 982, 'moon', 'orbiting Uranus'),\n",
       " (20, 'Rhea', 949, 'moon', 'orbiting Saturn')]"
      ]
     },
     "execution_count": 20,
     "metadata": {},
     "output_type": "execute_result"
    }
   ],
   "source": [
    "query = \"\"\"SELECT * FROM solar_system_20 L;\"\"\"\n",
    "cur.execute(query).fetchall()"
   ]
  },
  {
   "cell_type": "code",
   "execution_count": 21,
   "metadata": {},
   "outputs": [
    {
     "data": {
      "text/plain": [
       "[(1, 'M104 - Sombrero Galaxy', 1, 9),\n",
       " (2, 'M31 - Andromeda Galaxy', 1, 8),\n",
       " (3, 'NGC 4889', 1, 10),\n",
       " (4, 'Cygnus X-1', 15, 0)]"
      ]
     },
     "execution_count": 21,
     "metadata": {},
     "output_type": "execute_result"
    }
   ],
   "source": [
    "query = \"\"\"SELECT * FROM black_holes;\"\"\"\n",
    "cur.execute(query).fetchall()"
   ]
  },
  {
   "cell_type": "code",
   "execution_count": 22,
   "metadata": {},
   "outputs": [
    {
     "data": {
      "text/plain": [
       "[('Cassiopeia', 598),\n",
       " ('Ursa Major', 1280),\n",
       " ('Ursa Minor', 256),\n",
       " ('Draco', 1083),\n",
       " ('Cepheus', 588)]"
      ]
     },
     "execution_count": 22,
     "metadata": {},
     "output_type": "execute_result"
    }
   ],
   "source": [
    "query = \"\"\"SELECT * FROM circ_consts;\"\"\"\n",
    "cur.execute(query).fetchall()"
   ]
  },
  {
   "cell_type": "code",
   "execution_count": 23,
   "metadata": {},
   "outputs": [
    {
     "data": {
      "text/plain": [
       "[('Cygnus', 9),\n",
       " ('Lyra', 5),\n",
       " ('Ursa Major', 20),\n",
       " ('Scorpius', 18),\n",
       " ('Andromeda', 16),\n",
       " ('Cassiopeia', 5)]"
      ]
     },
     "execution_count": 23,
     "metadata": {},
     "output_type": "execute_result"
    }
   ],
   "source": [
    "query = \"\"\"SELECT * FROM sum_consts;\"\"\"\n",
    "cur.execute(query).fetchall()"
   ]
  },
  {
   "cell_type": "code",
   "execution_count": 24,
   "metadata": {},
   "outputs": [
    {
     "data": {
      "text/plain": [
       "[('Andromeda', 722, 16),\n",
       " ('Cassiopeia', 598, 5),\n",
       " ('Cephius', 588, 7),\n",
       " ('Cetus', 1231, 14),\n",
       " ('Ursa Major', 1280, 20),\n",
       " ('Ursa Minor', 256, 7)]"
      ]
     },
     "execution_count": 24,
     "metadata": {},
     "output_type": "execute_result"
    }
   ],
   "source": [
    "query = \"\"\"SELECT * FROM fall_consts;\"\"\"\n",
    "cur.execute(query).fetchall()"
   ]
  },
  {
   "cell_type": "code",
   "execution_count": null,
   "metadata": {},
   "outputs": [],
   "source": []
  }
 ],
 "metadata": {
  "kernelspec": {
   "display_name": "Python 3",
   "language": "python",
   "name": "python3"
  },
  "language_info": {
   "codemirror_mode": {
    "name": "ipython",
    "version": 3
   },
   "file_extension": ".py",
   "mimetype": "text/x-python",
   "name": "python",
   "nbconvert_exporter": "python",
   "pygments_lexer": "ipython3",
   "version": "3.7.4"
  }
 },
 "nbformat": 4,
 "nbformat_minor": 2
}
